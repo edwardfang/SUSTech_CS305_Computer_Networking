{
 "cells": [
  {
   "cell_type": "code",
   "execution_count": 1,
   "metadata": {},
   "outputs": [],
   "source": [
    "def dijkstra(graph,src):\n",
    "    # 判断图是否为空，如果为空直接退出\n",
    "    if graph is None:\n",
    "        return None\n",
    "    nodes = [i for i in range(len(graph))]  # 获取图中所有节点\n",
    "    distance = {}\n",
    "    path = {}\n",
    "    forwarding_table = {}\n",
    "\n",
    "    #fill your code here\n",
    "    unvisited = set(nodes)\n",
    "    unvisited.remove(src)\n",
    "    for node in unvisited:\n",
    "        distance[node] = graph[src][node]\n",
    "        forwarding_table[node] = node\n",
    "        path[node] = [src, node]\n",
    "    # print(distance, path, forwarding_table)\n",
    "    while unvisited:\n",
    "        nearest_node = -1\n",
    "        for node in unvisited:\n",
    "            if nearest_node == -1:\n",
    "                nearest_node = node\n",
    "                continue\n",
    "            elif distance[node] < distance[nearest_node]:\n",
    "                nearest_node = node\n",
    "        # print(nearest_node)\n",
    "        # update distance\n",
    "        for node in unvisited:\n",
    "            new_distance = distance[nearest_node] + graph[nearest_node][node]\n",
    "            if distance[node] > new_distance:\n",
    "                distance[node] = new_distance\n",
    "                path[node] = path[nearest_node] + [node]\n",
    "                forwarding_table[node] = path[node][1]\n",
    "        unvisited.remove(nearest_node)\n",
    "    return distance, path, forwarding_table"
   ]
  },
  {
   "cell_type": "code",
   "execution_count": 2,
   "metadata": {},
   "outputs": [
    {
     "name": "stdout",
     "output_type": "stream",
     "text": [
      "{0: 3, 1: 3, 2: 4, 4: 4, 5: 1}\n",
      "{0: [3, 0], 1: [3, 5, 1], 2: [3, 5, 2], 4: [3, 5, 1, 4], 5: [3, 5]}\n",
      "{0: 0, 1: 5, 2: 5, 4: 5, 5: 5}\n"
     ]
    }
   ],
   "source": [
    "graph_list = [[0, 7, float('inf'), 3, 3, 2],\n",
    "                  [7, 0, 5, float('inf'), 1, 2],\n",
    "                  [float('inf'), 5, 0, 6, float('inf'), 3],\n",
    "                  [3, float('inf'), 6, 0, float('inf'), 1],\n",
    "                  [3, 1, float('inf'), float('inf'), 0, float('inf')],\n",
    "                  [2, 2, 3, 1, float('inf'), 0]]\n",
    "\n",
    "distance, path, forwarding_table = dijkstra(graph_list, 3)  # 查找从源点3开始到其他节点的最短路径\n",
    "print(distance)\n",
    "print(path)\n",
    "print(forwarding_table)"
   ]
  },
  {
   "cell_type": "code",
   "execution_count": null,
   "metadata": {},
   "outputs": [],
   "source": []
  }
 ],
 "metadata": {
  "kernelspec": {
   "display_name": "Python 3",
   "language": "python",
   "name": "python3"
  },
  "language_info": {
   "codemirror_mode": {
    "name": "ipython",
    "version": 3
   },
   "file_extension": ".py",
   "mimetype": "text/x-python",
   "name": "python",
   "nbconvert_exporter": "python",
   "pygments_lexer": "ipython3",
   "version": "3.5.2"
  }
 },
 "nbformat": 4,
 "nbformat_minor": 2
}
